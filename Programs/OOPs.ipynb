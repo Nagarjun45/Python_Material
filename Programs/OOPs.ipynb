{
 "cells": [
  {
   "cell_type": "code",
   "execution_count": 1,
   "outputs": [
    {
     "name": "stdout",
     "output_type": "stream",
     "text": [
      "I am member of class\n"
     ]
    }
   ],
   "source": [
    "#example 1 without constructor.\n",
    "\n",
    "class Myclass():\n",
    "    def show(self):\n",
    "        print(\"I am member of class\")\n",
    "\n",
    "x = Myclass()\n",
    "x.show()"
   ],
   "metadata": {
    "collapsed": false,
    "pycharm": {
     "name": "#%%\n"
    }
   }
  },
  {
   "cell_type": "code",
   "execution_count": 2,
   "outputs": [
    {
     "name": "stdout",
     "output_type": "stream",
     "text": [
      "Model: Realme X\n",
      "Realme X\n"
     ]
    }
   ],
   "source": [
    "#Example 2\n",
    "\n",
    "class Mobile:\n",
    "    def __init__(self):\n",
    "        self.model=\"Realme X\"\n",
    "\n",
    "    def show_model(self):\n",
    "        print(\"Model:\",self.model)\n",
    "\n",
    "realme = Mobile()\n",
    "realme.show_model()\n",
    "print(realme.model) #We can access any varible from outside of class"
   ],
   "metadata": {
    "collapsed": false,
    "pycharm": {
     "name": "#%%\n"
    }
   }
  },
  {
   "cell_type": "code",
   "execution_count": 3,
   "outputs": [
    {
     "name": "stdout",
     "output_type": "stream",
     "text": [
      "naam: Nagarjun\n",
      "Maza Vay 27 ahe\n",
      "Nagarjun\n",
      "27\n"
     ]
    }
   ],
   "source": [
    "#Ex 3\n",
    "class Myclass:\n",
    "    def __init__(self):\n",
    "        self.name=\"Nagarjun\"\n",
    "        self.age=27\n",
    "    def naam(self):\n",
    "        print(\"naam:\",self.name)\n",
    "    def vay(self):\n",
    "        print(\"Maza Vay {}\".format(self.age),\"ahe\")\n",
    "x = Myclass()\n",
    "x.naam()\n",
    "x.vay()\n",
    "print(x.name) #We can directly access the varible from outside of class\n",
    "print(x.age)"
   ],
   "metadata": {
    "collapsed": false,
    "pycharm": {
     "name": "#%%\n"
    }
   }
  },
  {
   "cell_type": "code",
   "execution_count": 4,
   "outputs": [
    {
     "name": "stdout",
     "output_type": "stream",
     "text": [
      "naam: Nagarjun\n",
      "Mera age 27 Hai\n"
     ]
    }
   ],
   "source": [
    "#Ex 4\n",
    "class Myclass:\n",
    "    def __init__(self):\n",
    "        self.name=\"Nagarjun\"\n",
    "        self.age=27\n",
    "    def naam(self):\n",
    "        print(\"naam:\",self.name)\n",
    "    def vay(self):\n",
    "        print(\"Mera age {}\".format(self.age),\"Hai\")\n",
    "x = Myclass()\n",
    "x.naam()\n",
    "x.vay()"
   ],
   "metadata": {
    "collapsed": false,
    "pycharm": {
     "name": "#%%\n"
    }
   }
  },
  {
   "cell_type": "code",
   "execution_count": 5,
   "outputs": [
    {
     "name": "stdout",
     "output_type": "stream",
     "text": [
      "My Mobile Model is Redmi 8 Pro\n",
      "Redmi 8 Pro\n"
     ]
    }
   ],
   "source": [
    "#Ex 5\n",
    "class Mobile:\n",
    "    def __init__(self):\n",
    "        self.model=\"Realme X\"\n",
    "\n",
    "    def show_model(self):\n",
    "        print(\"My Mobile Model is {}\".format(self.model))\n",
    "\n",
    "realme = Mobile()\n",
    "\n",
    "realme.model=\"Redmi 8 Pro\"\n",
    "realme.show_model()\n",
    "print(realme.model)"
   ],
   "metadata": {
    "collapsed": false,
    "pycharm": {
     "name": "#%%\n"
    }
   }
  },
  {
   "cell_type": "code",
   "execution_count": 6,
   "outputs": [
    {
     "name": "stdout",
     "output_type": "stream",
     "text": [
      "Name of village: Mangalvedha\n",
      "I am Prashant Burande\n",
      "My age is 25\n",
      "My salary is 37000\n"
     ]
    }
   ],
   "source": [
    "#Ex 6\n",
    "class Village:\n",
    "    def __init__(self):\n",
    "        self.vname=\"Mangalvedha\"\n",
    "        self.name=\"Prashant\"\n",
    "        self.age=25\n",
    "        self.salary=37000\n",
    "\n",
    "    def show_vname(self):\n",
    "        print(\"Name of village:\",self.vname)\n",
    "\n",
    "    def show_name(self):\n",
    "        print(\"I am {}\".format(self.name),\"Burande\")\n",
    "\n",
    "    def show_age(self):\n",
    "        print(\"My age is {}\".format(self.age))\n",
    "\n",
    "    def show_salary(self):\n",
    "        print(\"My salary is {}\".format(self.salary))\n",
    "\n",
    "str = Village()\n",
    "\n",
    "str.show_vname()\n",
    "str.show_name()\n",
    "str.show_age()\n",
    "str.show_salary()"
   ],
   "metadata": {
    "collapsed": false,
    "pycharm": {
     "name": "#%%\n"
    }
   }
  },
  {
   "cell_type": "code",
   "execution_count": 7,
   "outputs": [
    {
     "name": "stdout",
     "output_type": "stream",
     "text": [
      "Model: Realme X\n",
      "Price: 1000\n"
     ]
    }
   ],
   "source": [
    "#Ex 7\n",
    "class Mobile:\n",
    "    def __init__(self,m):\n",
    "        self.model=m\n",
    "\n",
    "    def show_model(self,p):\n",
    "        price = p\n",
    "        print(\"Model:\",self.model)\n",
    "        print(\"Price:\",price)\n",
    "\n",
    "realme = Mobile(\"Realme X\")\n",
    "realme.show_model(1000)"
   ],
   "metadata": {
    "collapsed": false,
    "pycharm": {
     "name": "#%%\n"
    }
   }
  },
  {
   "cell_type": "code",
   "execution_count": 8,
   "outputs": [
    {
     "name": "stdout",
     "output_type": "stream",
     "text": [
      "Model: Realme X\n",
      "Price: 1000\n",
      "1544479945040\n",
      "\n",
      "Model: Redmi 8 Pro\n",
      "Price: 2000\n",
      "1544480070736\n",
      "\n",
      "Model: Iphone 11\n",
      "Price: 5000\n",
      "1544480045136\n"
     ]
    }
   ],
   "source": [
    "#Ex 8\n",
    "class Mobile:\n",
    "    def __init__(self,m):\n",
    "        self.model=m\n",
    "\n",
    "    def show_model(self,p):\n",
    "        self.price=p\n",
    "        print(\"Model:\",self.model)\n",
    "        print(\"Price:\",self.price)\n",
    "\n",
    "realme = Mobile(\"Realme X\")\n",
    "realme.show_model(1000)\n",
    "print(id(realme))\n",
    "print()\n",
    "\n",
    "redmi = Mobile(\"Redmi 8 Pro\")\n",
    "redmi.show_model(2000)\n",
    "print(id(redmi))\n",
    "print()\n",
    "\n",
    "apple = Mobile(\"Iphone 11\")\n",
    "apple.show_model(5000)\n",
    "print(id(apple))"
   ],
   "metadata": {
    "collapsed": false,
    "pycharm": {
     "name": "#%%\n"
    }
   }
  },
  {
   "cell_type": "code",
   "execution_count": 9,
   "outputs": [
    {
     "name": "stdout",
     "output_type": "stream",
     "text": [
      "Nagarjun Naam Suna To Hoga\n"
     ]
    }
   ],
   "source": [
    "class Kaksha():\n",
    "    def __init__(self):\n",
    "        self.name=\"Nagarjun\"\n",
    "\n",
    "    def naam_dikha(self):\n",
    "        print(self.name,\"Naam Suna To Hoga\")\n",
    "\n",
    "sun = Kaksha()\n",
    "sun.naam_dikha()"
   ],
   "metadata": {
    "collapsed": false,
    "pycharm": {
     "name": "#%%\n"
    }
   }
  },
  {
   "cell_type": "code",
   "execution_count": 10,
   "outputs": [
    {
     "name": "stdout",
     "output_type": "stream",
     "text": [
      "Realme X\n"
     ]
    }
   ],
   "source": [
    "class Mobile:\n",
    "    #fp = \"Naga Bhai\"\n",
    "    def __init__(self):\n",
    "        self.model=\"Realme X\"\n",
    "    def show_model(self):\n",
    "        print(self.model)\n",
    "\n",
    "\n",
    "realme = Mobile()\n",
    "realme.show_model()"
   ],
   "metadata": {
    "collapsed": false,
    "pycharm": {
     "name": "#%%\n"
    }
   }
  },
  {
   "cell_type": "code",
   "execution_count": 11,
   "outputs": [
    {
     "name": "stdout",
     "output_type": "stream",
     "text": [
      "Realme X\n"
     ]
    }
   ],
   "source": [
    "class Mobile:\n",
    "    def __init__(self):\n",
    "        self.model=\"Realme X\"\n",
    "    def show_model(self):\n",
    "        print(self.model)\n",
    "\n",
    "\n",
    "realme = Mobile()\n",
    "realme.show_model()"
   ],
   "metadata": {
    "collapsed": false,
    "pycharm": {
     "name": "#%%\n"
    }
   }
  },
  {
   "cell_type": "code",
   "execution_count": 11,
   "outputs": [],
   "source": [],
   "metadata": {
    "collapsed": false,
    "pycharm": {
     "name": "#%%\n"
    }
   }
  },
  {
   "cell_type": "code",
   "execution_count": 12,
   "outputs": [
    {
     "name": "stdout",
     "output_type": "stream",
     "text": [
      "Name: Nagarjun\n"
     ]
    }
   ],
   "source": [
    "class Village:\n",
    "    def __init__(self):\n",
    "        self.name=\"Nagarjun\"\n",
    "\n",
    "    def show_name(self):\n",
    "        print(\"Name:\",self.name)\n",
    "\n",
    "cls = Village()\n",
    "cls.show_name()"
   ],
   "metadata": {
    "collapsed": false,
    "pycharm": {
     "name": "#%%\n"
    }
   }
  },
  {
   "cell_type": "code",
   "execution_count": 15,
   "outputs": [
    {
     "name": "stdout",
     "output_type": "stream",
     "text": [
      "Realme 8i\n"
     ]
    }
   ],
   "source": [
    "class Mobile:\n",
    "    cs=\"Naga Bhai\"\n",
    "    def __init__(self):\n",
    "        self.model=\"Realme 8i\"\n",
    "\n",
    "    def show_model(self):\n",
    "        print(self.model)\n",
    "\n",
    "        @classmethod\n",
    "        def is_cs(cls):\n",
    "            cls.cs\n",
    "\n",
    "realme = Mobile()\n",
    "realme.show_model()"
   ],
   "metadata": {
    "collapsed": false,
    "pycharm": {
     "name": "#%%\n"
    }
   }
  },
  {
   "cell_type": "code",
   "execution_count": 17,
   "outputs": [
    {
     "name": "stdout",
     "output_type": "stream",
     "text": [
      "30\n"
     ]
    }
   ],
   "source": [
    "#Function Revision\n",
    "def add(a,b):\n",
    "    res = a+b\n",
    "    print(res)\n",
    "\n",
    "add(10,20)"
   ],
   "metadata": {
    "collapsed": false,
    "pycharm": {
     "name": "#%%\n"
    }
   }
  },
  {
   "cell_type": "code",
   "execution_count": 19,
   "outputs": [
    {
     "name": "stdout",
     "output_type": "stream",
     "text": [
      "30\n"
     ]
    }
   ],
   "source": [
    "def add(a=10,b=20):\n",
    "    res = a+b\n",
    "    print(res)\n",
    "\n",
    "add()"
   ],
   "metadata": {
    "collapsed": false,
    "pycharm": {
     "name": "#%%\n"
    }
   }
  },
  {
   "cell_type": "code",
   "execution_count": 20,
   "outputs": [
    {
     "name": "stdout",
     "output_type": "stream",
     "text": [
      "50\n"
     ]
    }
   ],
   "source": [
    "def add(a=10,b=20):\n",
    "    res = a+b\n",
    "    print(res)\n",
    "\n",
    "add(20,30)"
   ],
   "metadata": {
    "collapsed": false,
    "pycharm": {
     "name": "#%%\n"
    }
   }
  },
  {
   "cell_type": "code",
   "execution_count": 21,
   "outputs": [
    {
     "ename": "SyntaxError",
     "evalue": "invalid syntax (510915950.py, line 1)",
     "output_type": "error",
     "traceback": [
      "\u001B[1;36m  Cell \u001B[1;32mIn[21], line 1\u001B[1;36m\u001B[0m\n\u001B[1;33m    def add(a=10,20):\u001B[0m\n\u001B[1;37m                 ^\u001B[0m\n\u001B[1;31mSyntaxError\u001B[0m\u001B[1;31m:\u001B[0m invalid syntax\n"
     ]
    }
   ],
   "source": [
    "def add(a=10,20): #Positional Argument Doesn't follow the keyword argument\n",
    "    res = a+b\n",
    "    print(res)\n",
    "\n",
    "add()"
   ],
   "metadata": {
    "collapsed": false,
    "pycharm": {
     "name": "#%%\n"
    }
   }
  },
  {
   "cell_type": "code",
   "execution_count": null,
   "outputs": [],
   "source": [],
   "metadata": {
    "collapsed": false,
    "pycharm": {
     "name": "#%%\n"
    }
   }
  }
 ],
 "metadata": {
  "kernelspec": {
   "display_name": "Python 3",
   "language": "python",
   "name": "python3"
  },
  "language_info": {
   "codemirror_mode": {
    "name": "ipython",
    "version": 2
   },
   "file_extension": ".py",
   "mimetype": "text/x-python",
   "name": "python",
   "nbconvert_exporter": "python",
   "pygments_lexer": "ipython2",
   "version": "2.7.6"
  }
 },
 "nbformat": 4,
 "nbformat_minor": 0
}