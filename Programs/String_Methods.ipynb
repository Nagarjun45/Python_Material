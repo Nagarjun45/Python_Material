{
 "cells": [
  {
   "cell_type": "code",
   "execution_count": 1,
   "id": "0eccb05b",
   "metadata": {
    "pycharm": {
     "name": "#%%\n"
    }
   },
   "outputs": [
    {
     "name": "stdout",
     "output_type": "stream",
     "text": [
      "My name is nagarjun and i am 25 years old with 222na9 id\n"
     ]
    }
   ],
   "source": [
    "str = \"My Name is Nagarjun and i am 25 years old with 222na9 id\"\n",
    "print(str.capitalize())"
   ]
  },
  {
   "cell_type": "code",
   "execution_count": 2,
   "id": "89d89897",
   "metadata": {
    "pycharm": {
     "name": "#%%\n"
    }
   },
   "outputs": [
    {
     "name": "stdout",
     "output_type": "stream",
     "text": [
      "my name is nagarjun and i am 25 years old with 222na9 id\n"
     ]
    }
   ],
   "source": [
    "print(str.casefold())"
   ]
  },
  {
   "cell_type": "code",
   "execution_count": 3,
   "id": "2bf233d5",
   "metadata": {
    "pycharm": {
     "name": "#%%\n"
    }
   },
   "outputs": [
    {
     "name": "stdout",
     "output_type": "stream",
     "text": [
      "######################My Name is Nagarjun and i am 25 years old with 222na9 id######################\n"
     ]
    }
   ],
   "source": [
    "print(str.center(100,\"#\"))"
   ]
  },
  {
   "cell_type": "code",
   "execution_count": 5,
   "id": "6de3e7de",
   "metadata": {
    "pycharm": {
     "name": "#%%\n"
    }
   },
   "outputs": [
    {
     "name": "stdout",
     "output_type": "stream",
     "text": [
      "7\n"
     ]
    }
   ],
   "source": [
    "print(str.count(\"a\"))"
   ]
  },
  {
   "cell_type": "code",
   "execution_count": 6,
   "id": "29324aaa",
   "metadata": {
    "pycharm": {
     "name": "#%%\n"
    }
   },
   "outputs": [
    {
     "name": "stdout",
     "output_type": "stream",
     "text": [
      "2\n"
     ]
    }
   ],
   "source": [
    "print(str.count(\"a\",5,20))"
   ]
  },
  {
   "cell_type": "code",
   "execution_count": 15,
   "id": "166ca6e3",
   "metadata": {
    "pycharm": {
     "name": "#%%\n"
    }
   },
   "outputs": [
    {
     "name": "stdout",
     "output_type": "stream",
     "text": [
      "True\n"
     ]
    }
   ],
   "source": [
    "print(str.endswith(\"id\"))"
   ]
  },
  {
   "cell_type": "code",
   "execution_count": 17,
   "id": "3eb9cfbf",
   "metadata": {
    "pycharm": {
     "name": "#%%\n"
    }
   },
   "outputs": [
    {
     "name": "stdout",
     "output_type": "stream",
     "text": [
      "False\n"
     ]
    }
   ],
   "source": [
    "print(str.startswith(\"my\"))"
   ]
  },
  {
   "cell_type": "code",
   "execution_count": 18,
   "id": "7e9ab133",
   "metadata": {
    "pycharm": {
     "name": "#%%\n"
    }
   },
   "outputs": [
    {
     "name": "stdout",
     "output_type": "stream",
     "text": [
      "True\n"
     ]
    }
   ],
   "source": [
    "print(str.startswith(\"My\"))"
   ]
  },
  {
   "cell_type": "code",
   "execution_count": 25,
   "id": "16e0da5e",
   "metadata": {
    "pycharm": {
     "name": "#%%\n"
    }
   },
   "outputs": [
    {
     "name": "stdout",
     "output_type": "stream",
     "text": [
      "My Name is Nagarjun and i am 25 years old with 222na9 id\n"
     ]
    }
   ],
   "source": [
    "print(str.expandtabs())"
   ]
  },
  {
   "cell_type": "code",
   "execution_count": 24,
   "id": "ed9388de",
   "metadata": {
    "pycharm": {
     "name": "#%%\n"
    }
   },
   "outputs": [
    {
     "name": "stdout",
     "output_type": "stream",
     "text": [
      "Yuv     anshu Joshi\n"
     ]
    }
   ],
   "source": [
    "s = \"Yuv\\tanshu Joshi\"\n",
    "print(s.expandtabs())"
   ]
  },
  {
   "cell_type": "code",
   "execution_count": 26,
   "id": "7e49788d",
   "metadata": {
    "pycharm": {
     "name": "#%%\n"
    }
   },
   "outputs": [
    {
     "name": "stdout",
     "output_type": "stream",
     "text": [
      "My Na   me is Naga      rjun and i am 25 ye     ars old with 222na9 id\n"
     ]
    }
   ],
   "source": [
    "y = \"My Na\\tme is Naga\\trjun and i am 25 ye\\tars old with 222na9 id\"\n",
    "print(y.expandtabs())"
   ]
  },
  {
   "cell_type": "code",
   "execution_count": 28,
   "id": "d1540af5",
   "metadata": {
    "pycharm": {
     "name": "#%%\n"
    }
   },
   "outputs": [
    {
     "name": "stdout",
     "output_type": "stream",
     "text": [
      "21\n"
     ]
    }
   ],
   "source": [
    "m = \"My name is Yuvanshu Joshi and I am currently working the organisation named as Agiliad Tech and I'm 24 years Old\"\n",
    "print(m.find(\"o\"))"
   ]
  },
  {
   "cell_type": "code",
   "execution_count": 29,
   "id": "bdd1b4d9",
   "metadata": {
    "pycharm": {
     "name": "#%%\n"
    }
   },
   "outputs": [
    {
     "name": "stdout",
     "output_type": "stream",
     "text": [
      "-1\n"
     ]
    }
   ],
   "source": [
    "print(m.find(\"o\",22,40))"
   ]
  },
  {
   "cell_type": "code",
   "execution_count": 30,
   "id": "da2746a9",
   "metadata": {
    "pycharm": {
     "name": "#%%\n"
    }
   },
   "outputs": [
    {
     "name": "stdout",
     "output_type": "stream",
     "text": [
      "46\n"
     ]
    }
   ],
   "source": [
    "print(m.find(\"o\",22,70))"
   ]
  },
  {
   "cell_type": "code",
   "execution_count": 31,
   "id": "000969d9",
   "metadata": {
    "pycharm": {
     "name": "#%%\n"
    }
   },
   "outputs": [
    {
     "name": "stdout",
     "output_type": "stream",
     "text": [
      "21\n"
     ]
    }
   ],
   "source": [
    "print(m.index(\"o\"))"
   ]
  },
  {
   "cell_type": "code",
   "execution_count": 32,
   "id": "d2e0d1bd",
   "metadata": {
    "pycharm": {
     "name": "#%%\n"
    }
   },
   "outputs": [
    {
     "ename": "ValueError",
     "evalue": "substring not found",
     "output_type": "error",
     "traceback": [
      "\u001B[1;31m---------------------------------------------------------------------------\u001B[0m",
      "\u001B[1;31mValueError\u001B[0m                                Traceback (most recent call last)",
      "Cell \u001B[1;32mIn[32], line 1\u001B[0m\n\u001B[1;32m----> 1\u001B[0m \u001B[38;5;28mprint\u001B[39m(\u001B[43mm\u001B[49m\u001B[38;5;241;43m.\u001B[39;49m\u001B[43mindex\u001B[49m\u001B[43m(\u001B[49m\u001B[38;5;124;43m\"\u001B[39;49m\u001B[38;5;124;43mo\u001B[39;49m\u001B[38;5;124;43m\"\u001B[39;49m\u001B[43m,\u001B[49m\u001B[38;5;241;43m22\u001B[39;49m\u001B[43m,\u001B[49m\u001B[38;5;241;43m40\u001B[39;49m\u001B[43m)\u001B[49m)\n",
      "\u001B[1;31mValueError\u001B[0m: substring not found"
     ]
    }
   ],
   "source": [
    "print(m.index(\"o\",22,40))"
   ]
  },
  {
   "cell_type": "code",
   "execution_count": 33,
   "id": "8e828174",
   "metadata": {
    "pycharm": {
     "name": "#%%\n"
    }
   },
   "outputs": [
    {
     "name": "stdout",
     "output_type": "stream",
     "text": [
      "46\n"
     ]
    }
   ],
   "source": [
    "print(m.index(\"o\",22,70))"
   ]
  },
  {
   "cell_type": "code",
   "execution_count": 34,
   "id": "471b7732",
   "metadata": {
    "pycharm": {
     "name": "#%%\n"
    }
   },
   "outputs": [
    {
     "name": "stdout",
     "output_type": "stream",
     "text": [
      "67\n"
     ]
    }
   ],
   "source": [
    "print(m.rfind(\"o\"))"
   ]
  },
  {
   "cell_type": "code",
   "execution_count": 35,
   "id": "2b52d389",
   "metadata": {
    "pycharm": {
     "name": "#%%\n"
    }
   },
   "outputs": [
    {
     "name": "stdout",
     "output_type": "stream",
     "text": [
      "67\n"
     ]
    }
   ],
   "source": [
    "print(m.rindex(\"o\"))"
   ]
  },
  {
   "cell_type": "code",
   "execution_count": 36,
   "id": "e9ad525a",
   "metadata": {
    "pycharm": {
     "name": "#%%\n"
    }
   },
   "outputs": [
    {
     "name": "stdout",
     "output_type": "stream",
     "text": [
      "57\n"
     ]
    }
   ],
   "source": [
    "print(m.rfind(\"o\",1,60))"
   ]
  },
  {
   "cell_type": "code",
   "execution_count": 37,
   "id": "44874515",
   "metadata": {
    "pycharm": {
     "name": "#%%\n"
    }
   },
   "outputs": [
    {
     "name": "stdout",
     "output_type": "stream",
     "text": [
      "N#a#g#a#r#j#u#n\n"
     ]
    }
   ],
   "source": [
    "st = \"Nagarjun\"\n",
    "print(\"#\".join(st))"
   ]
  },
  {
   "cell_type": "code",
   "execution_count": 38,
   "id": "e0db1014",
   "metadata": {
    "pycharm": {
     "name": "#%%\n"
    }
   },
   "outputs": [
    {
     "name": "stdout",
     "output_type": "stream",
     "text": [
      "N&&a&&g&&a&&r&&j&&u&&n\n"
     ]
    }
   ],
   "source": [
    "sm = \"Nagarjun\"\n",
    "p = \"&&\"\n",
    "print(p.join(sm))"
   ]
  },
  {
   "cell_type": "code",
   "execution_count": 40,
   "id": "f589e388",
   "metadata": {
    "pycharm": {
     "name": "#%%\n"
    }
   },
   "outputs": [
    {
     "name": "stdout",
     "output_type": "stream",
     "text": [
      "Naga_Age_India\n"
     ]
    }
   ],
   "source": [
    "lst = [\"Naga\",\"Age\",\"India\"]\n",
    "s = \"_\"\n",
    "print(s.join(lst))"
   ]
  },
  {
   "cell_type": "code",
   "execution_count": 44,
   "id": "11e8a327",
   "metadata": {
    "pycharm": {
     "name": "#%%\n"
    }
   },
   "outputs": [
    {
     "name": "stdout",
     "output_type": "stream",
     "text": [
      "10_20_3_0_40\n"
     ]
    }
   ],
   "source": [
    "lst=[\"10\",\"20\",\"3\",\"0\",\"40\"]\n",
    "s = \"_\"\n",
    "print(s.join(lst))"
   ]
  },
  {
   "cell_type": "code",
   "execution_count": 45,
   "id": "54bca9bb",
   "metadata": {
    "pycharm": {
     "name": "#%%\n"
    }
   },
   "outputs": [
    {
     "name": "stdout",
     "output_type": "stream",
     "text": [
      "Naga_25_35000_India\n"
     ]
    }
   ],
   "source": [
    "lst = [\"Naga\",\"25\",\"35000\",\"India\"]\n",
    "s = \"_\"\n",
    "print(s.join(lst))"
   ]
  },
  {
   "cell_type": "code",
   "execution_count": 46,
   "id": "df77c41b",
   "metadata": {
    "pycharm": {
     "name": "#%%\n"
    }
   },
   "outputs": [
    {
     "name": "stdout",
     "output_type": "stream",
     "text": [
      "Naga_25_35000_India\n"
     ]
    }
   ],
   "source": [
    "tup = (\"Naga\",\"25\",\"35000\",\"India\")\n",
    "s = \"_\"\n",
    "print(s.join(tup))"
   ]
  },
  {
   "cell_type": "code",
   "execution_count": 47,
   "id": "6130c8f2",
   "metadata": {
    "pycharm": {
     "name": "#%%\n"
    }
   },
   "outputs": [
    {
     "name": "stdout",
     "output_type": "stream",
     "text": [
      "Name_Age\n"
     ]
    }
   ],
   "source": [
    "dict = {\"Name\":\"Nagarjun\",\"Age\":25}\n",
    "s = \"_\"\n",
    "print(s.join(dict))"
   ]
  },
  {
   "cell_type": "code",
   "execution_count": 48,
   "id": "4adc2c3d",
   "metadata": {
    "pycharm": {
     "name": "#%%\n"
    }
   },
   "outputs": [
    {
     "name": "stdout",
     "output_type": "stream",
     "text": [
      "Nagarjun************\n"
     ]
    }
   ],
   "source": [
    "rt = \"Nagarjun\"\n",
    "z = rt.ljust(20,\"*\")\n",
    "print(z)"
   ]
  },
  {
   "cell_type": "code",
   "execution_count": 50,
   "id": "0d1340b1",
   "metadata": {
    "pycharm": {
     "name": "#%%\n"
    }
   },
   "outputs": [
    {
     "name": "stdout",
     "output_type": "stream",
     "text": [
      "************Nagarjun\n"
     ]
    }
   ],
   "source": [
    "rt = \"Nagarjun\"\n",
    "z = rt.rjust(20,\"*\")\n",
    "print(z)"
   ]
  },
  {
   "cell_type": "code",
   "execution_count": 51,
   "id": "bef7bb26",
   "metadata": {
    "pycharm": {
     "name": "#%%\n"
    }
   },
   "outputs": [
    {
     "name": "stdout",
     "output_type": "stream",
     "text": [
      "******Nagarjun******\n"
     ]
    }
   ],
   "source": [
    "rt = \"Nagarjun\"\n",
    "z = rt.center(20,\"*\")\n",
    "print(z)"
   ]
  },
  {
   "cell_type": "code",
   "execution_count": 52,
   "id": "8083558f",
   "metadata": {
    "pycharm": {
     "name": "#%%\n"
    }
   },
   "outputs": [
    {
     "name": "stdout",
     "output_type": "stream",
     "text": [
      "Nagarjun\n"
     ]
    }
   ],
   "source": [
    "pt = \".........mmmmmm,,,,tag....Nagarjun.......rrrr\"\n",
    "x  =pt.strip(\".m,tagr\")\n",
    "print(x)"
   ]
  },
  {
   "cell_type": "code",
   "execution_count": 53,
   "id": "132fa2eb",
   "metadata": {
    "pycharm": {
     "name": "#%%\n"
    }
   },
   "outputs": [
    {
     "name": "stdout",
     "output_type": "stream",
     "text": [
      "Nagarjun.......rrrr\n"
     ]
    }
   ],
   "source": [
    "pt = \".........mmmmmm,,,,tag....Nagarjun.......rrrr\"\n",
    "x  =pt.lstrip(\".m,tagr\")\n",
    "print(x)"
   ]
  },
  {
   "cell_type": "code",
   "execution_count": 54,
   "id": "72c523a2",
   "metadata": {
    "pycharm": {
     "name": "#%%\n"
    }
   },
   "outputs": [
    {
     "name": "stdout",
     "output_type": "stream",
     "text": [
      ".........mmmmmm,,,,tag....Nagarjun\n"
     ]
    }
   ],
   "source": [
    "pt = \".........mmmmmm,,,,tag....Nagarjun.......rrrr\"\n",
    "x  =pt.rstrip(\".m,tagr\")\n",
    "print(x)"
   ]
  },
  {
   "cell_type": "code",
   "execution_count": 2,
   "id": "d37e12c4",
   "metadata": {
    "pycharm": {
     "name": "#%%\n"
    }
   },
   "outputs": [
    {
     "name": "stdout",
     "output_type": "stream",
     "text": [
      "10\n",
      "10 20\n",
      "10\n",
      "10 20\n",
      "20 10\n",
      "20\n"
     ]
    }
   ],
   "source": [
    "print(\"{}\".format(10))\n",
    "print(\"{} {}\".format(10,20))\n",
    "print(\"{0}\".format(10))\n",
    "print(\"{0} {1}\".format(10,20))\n",
    "print(\"{1} {0}\".format(10,20))\n",
    "print(\"{num}\".format(num=20))"
   ]
  },
  {
   "cell_type": "code",
   "execution_count": 3,
   "id": "c7d4f308",
   "metadata": {
    "pycharm": {
     "name": "#%%\n"
    }
   },
   "outputs": [
    {
     "name": "stdout",
     "output_type": "stream",
     "text": [
      "10\n"
     ]
    }
   ],
   "source": [
    "print(\"{0}\".format(10,20))"
   ]
  },
  {
   "cell_type": "code",
   "execution_count": 4,
   "id": "58cbdf1b",
   "metadata": {
    "pycharm": {
     "name": "#%%\n"
    }
   },
   "outputs": [
    {
     "name": "stdout",
     "output_type": "stream",
     "text": [
      "20\n"
     ]
    }
   ],
   "source": [
    "print(\"{num}\".format(num=20,num1=21))"
   ]
  },
  {
   "cell_type": "code",
   "execution_count": 6,
   "id": "c09907b3",
   "metadata": {
    "pycharm": {
     "name": "#%%\n"
    }
   },
   "outputs": [
    {
     "name": "stdout",
     "output_type": "stream",
     "text": [
      "20\n"
     ]
    }
   ],
   "source": [
    "print(\"{num}\".format(\"Naga\",num=20))"
   ]
  },
  {
   "cell_type": "code",
   "execution_count": 9,
   "id": "62b1efb1",
   "metadata": {
    "pycharm": {
     "name": "#%%\n"
    }
   },
   "outputs": [
    {
     "ename": "SyntaxError",
     "evalue": "positional argument follows keyword argument (3986708903.py, line 1)",
     "output_type": "error",
     "traceback": [
      "\u001B[1;36m  Cell \u001B[1;32mIn[9], line 1\u001B[1;36m\u001B[0m\n\u001B[1;33m    print(\"{num}\".format(num=10,\"Naga\"))\u001B[0m\n\u001B[1;37m                                      ^\u001B[0m\n\u001B[1;31mSyntaxError\u001B[0m\u001B[1;31m:\u001B[0m positional argument follows keyword argument\n"
     ]
    }
   ],
   "source": [
    "print(\"{num}\".format(num=10,\"Naga\"))"
   ]
  },
  {
   "cell_type": "code",
   "execution_count": 14,
   "id": "4ec2b254",
   "metadata": {
    "scrolled": true,
    "pycharm": {
     "name": "#%%\n"
    }
   },
   "outputs": [
    {
     "name": "stdout",
     "output_type": "stream",
     "text": [
      "************Nagarjun\n"
     ]
    }
   ],
   "source": [
    "print(\"{num:*>20}\".format(num=\"Nagarjun\"))"
   ]
  },
  {
   "cell_type": "code",
   "execution_count": 15,
   "id": "55569d8c",
   "metadata": {
    "pycharm": {
     "name": "#%%\n"
    }
   },
   "outputs": [
    {
     "name": "stdout",
     "output_type": "stream",
     "text": [
      "Nagarjun************\n"
     ]
    }
   ],
   "source": [
    "print(\"{num:*<20}\".format(num=\"Nagarjun\"))"
   ]
  },
  {
   "cell_type": "code",
   "execution_count": 16,
   "id": "c2ea216a",
   "metadata": {
    "pycharm": {
     "name": "#%%\n"
    }
   },
   "outputs": [
    {
     "name": "stdout",
     "output_type": "stream",
     "text": [
      "******Nagarjun******\n"
     ]
    }
   ],
   "source": [
    "print(\"{num:*^20}\".format(num=\"Nagarjun\"))"
   ]
  },
  {
   "cell_type": "code",
   "execution_count": 19,
   "id": "74688c8b",
   "metadata": {
    "pycharm": {
     "name": "#%%\n"
    }
   },
   "outputs": [
    {
     "name": "stdout",
     "output_type": "stream",
     "text": [
      "******************10\n"
     ]
    }
   ],
   "source": [
    "print(\"{num:*=20}\".format(num=10))"
   ]
  },
  {
   "cell_type": "code",
   "execution_count": 22,
   "id": "780c01fe",
   "metadata": {
    "pycharm": {
     "name": "#%%\n"
    }
   },
   "outputs": [
    {
     "name": "stdout",
     "output_type": "stream",
     "text": [
      "15\n"
     ]
    }
   ],
   "source": [
    "print(\"{num:d}\".format(num=15))"
   ]
  },
  {
   "cell_type": "code",
   "execution_count": 23,
   "id": "f907144c",
   "metadata": {
    "pycharm": {
     "name": "#%%\n"
    }
   },
   "outputs": [
    {
     "name": "stdout",
     "output_type": "stream",
     "text": [
      "<class 'str'>\n"
     ]
    }
   ],
   "source": [
    "print(type(\"{num:d}\".format(num=15)))"
   ]
  },
  {
   "cell_type": "code",
   "execution_count": 24,
   "id": "b4a8852f",
   "metadata": {
    "pycharm": {
     "name": "#%%\n"
    }
   },
   "outputs": [
    {
     "name": "stdout",
     "output_type": "stream",
     "text": [
      "   15\n"
     ]
    }
   ],
   "source": [
    "print(\"{num:5d}\".format(num=15))"
   ]
  },
  {
   "cell_type": "code",
   "execution_count": 25,
   "id": "077dd596",
   "metadata": {
    "pycharm": {
     "name": "#%%\n"
    }
   },
   "outputs": [
    {
     "name": "stdout",
     "output_type": "stream",
     "text": [
      "<class 'str'>\n"
     ]
    }
   ],
   "source": [
    "print(type(\"{num:5d}\".format(num=15)))"
   ]
  },
  {
   "cell_type": "code",
   "execution_count": 26,
   "id": "cee7db46",
   "metadata": {
    "pycharm": {
     "name": "#%%\n"
    }
   },
   "outputs": [
    {
     "ename": "SyntaxError",
     "evalue": "positional argument follows keyword argument (251509018.py, line 1)",
     "output_type": "error",
     "traceback": [
      "\u001B[1;36m  Cell \u001B[1;32mIn[26], line 1\u001B[1;36m\u001B[0m\n\u001B[1;33m    print(\"{num}\".format(num=\"Nagarjun\",29))\u001B[0m\n\u001B[1;37m                                          ^\u001B[0m\n\u001B[1;31mSyntaxError\u001B[0m\u001B[1;31m:\u001B[0m positional argument follows keyword argument\n"
     ]
    }
   ],
   "source": [
    "print(\"{num}\".format(num=\"Nagarjun\",29))"
   ]
  },
  {
   "cell_type": "code",
   "execution_count": 30,
   "id": "78bf56de",
   "metadata": {
    "pycharm": {
     "name": "#%%\n"
    }
   },
   "outputs": [
    {
     "name": "stdout",
     "output_type": "stream",
     "text": [
      "Enter the First Name :Nagarjun\n",
      "Enter the last name :Honrao\n",
      "My Name is Nagarjun and surname is Honrao\n"
     ]
    }
   ],
   "source": [
    "f_name = input(\"Enter the First Name :\")\n",
    "l_name = input('Enter the last name :')\n",
    "\n",
    "print(F\"My Name is {f_name} and surname is {l_name}\")"
   ]
  },
  {
   "cell_type": "code",
   "execution_count": 29,
   "id": "64ee7104",
   "metadata": {
    "pycharm": {
     "name": "#%%\n"
    }
   },
   "outputs": [
    {
     "name": "stdout",
     "output_type": "stream",
     "text": [
      "My Name is 'Nagarjun' and surname is 'Honrao'\n"
     ]
    }
   ],
   "source": [
    "f_name = \"'Nagarjun'\"\n",
    "l_name = \"'Honrao'\"\n",
    "\n",
    "print(F\"My Name is {f_name} and surname is {l_name}\")"
   ]
  },
  {
   "cell_type": "code",
   "execution_count": 31,
   "id": "fd295644",
   "metadata": {
    "pycharm": {
     "name": "#%%\n"
    }
   },
   "outputs": [
    {
     "name": "stdout",
     "output_type": "stream",
     "text": [
      "['Naga', 'Ka', 'Rada']\n"
     ]
    }
   ],
   "source": [
    "lst = [\"Naga\",\"Bhai\",\"Rada\"]\n",
    "lst[1]=\"Ka\"\n",
    "print(lst)"
   ]
  },
  {
   "cell_type": "code",
   "execution_count": 32,
   "id": "816c2de5",
   "metadata": {
    "pycharm": {
     "name": "#%%\n"
    }
   },
   "outputs": [
    {
     "name": "stdout",
     "output_type": "stream",
     "text": [
      "['Naga', 'Rama', 'Shama', 'Kran', 'Kiran']\n"
     ]
    }
   ],
   "source": [
    "lst = [\"Naga\",\"Anki\",\"Akash\",\"Kran\",\"Kiran\"]\n",
    "lst[1:3]=[\"Rama\",\"Shama\"]\n",
    "print(lst)"
   ]
  },
  {
   "cell_type": "code",
   "execution_count": 35,
   "id": "d3dde424",
   "metadata": {
    "pycharm": {
     "name": "#%%\n"
    }
   },
   "outputs": [
    {
     "name": "stdout",
     "output_type": "stream",
     "text": [
      "['Nagarjun', 'Shital', 'Ankur', 'Akash']\n"
     ]
    }
   ],
   "source": [
    "lst = [\"Prashnat\",\"Ankur\",\"Akash\"]\n",
    "lst[0:1]=[\"Nagarjun\",\"Shital\"]\n",
    "print(lst)"
   ]
  },
  {
   "cell_type": "code",
   "execution_count": 36,
   "id": "43bb65f4",
   "metadata": {
    "pycharm": {
     "name": "#%%\n"
    }
   },
   "outputs": [
    {
     "name": "stdout",
     "output_type": "stream",
     "text": [
      "['Ankur', 'Nagarjun']\n"
     ]
    }
   ],
   "source": [
    "lst = [\"Ankur\",\"Akash\",\"Prashant\"]\n",
    "lst[1:3]=[\"Nagarjun\"]\n",
    "print(lst)"
   ]
  },
  {
   "cell_type": "code",
   "execution_count": 37,
   "id": "6c4e080d",
   "metadata": {
    "pycharm": {
     "name": "#%%\n"
    }
   },
   "outputs": [
    {
     "name": "stdout",
     "output_type": "stream",
     "text": [
      "['Nagarjun', 'Ankur', 'Akash', 'Yuvanshu']\n"
     ]
    }
   ],
   "source": [
    "lst = [\"Nagarjun\",\"Ankur\",\"Yuvanshu\"]\n",
    "lst.insert(2,\"Akash\")\n",
    "print(lst)"
   ]
  },
  {
   "cell_type": "code",
   "execution_count": 38,
   "id": "134e228c",
   "metadata": {
    "pycharm": {
     "name": "#%%\n"
    }
   },
   "outputs": [
    {
     "name": "stdout",
     "output_type": "stream",
     "text": [
      "['Naga', 'Anki', 'Akki', 'Yuvi']\n"
     ]
    }
   ],
   "source": [
    "lst = [\"Naga\",\"Anki\",\"Akki\"]\n",
    "lst.append(\"Yuvi\")\n",
    "print(lst)"
   ]
  },
  {
   "cell_type": "code",
   "execution_count": 41,
   "id": "afd8dd30",
   "metadata": {
    "pycharm": {
     "name": "#%%\n"
    }
   },
   "outputs": [
    {
     "name": "stdout",
     "output_type": "stream",
     "text": [
      "['Nagarjun', 'Ankur', 'Yuvanshu']\n",
      "-------------------------------------\n",
      "['Nagarjun', 'Ankur', 'Yuvanshu', 'Naga', 'Anki', 'Akki']\n",
      "-------------------------------------\n",
      "['Naga', 'Anki', 'Akki']\n"
     ]
    }
   ],
   "source": [
    "lst1 = [\"Nagarjun\",\"Ankur\",\"Yuvanshu\"]\n",
    "print(lst1)\n",
    "print(\"-------------------------------------\")\n",
    "lst2 = [\"Naga\",\"Anki\",\"Akki\"]\n",
    "lst1.extend(lst2)\n",
    "print(lst1)\n",
    "print(\"-------------------------------------\")\n",
    "print(lst2)"
   ]
  },
  {
   "cell_type": "code",
   "execution_count": 44,
   "id": "67f740c3",
   "metadata": {
    "pycharm": {
     "name": "#%%\n"
    }
   },
   "outputs": [
    {
     "name": "stdout",
     "output_type": "stream",
     "text": [
      "['Naga', 'Anki', 'Akki', 'Nagarjun', 'Ankur', 'Yuvanshu']\n",
      "-------------------------------------\n",
      "['Nagarjun', 'Ankur', 'Yuvanshu']\n"
     ]
    }
   ],
   "source": [
    "lst1 = [\"Nagarjun\",\"Ankur\",\"Yuvanshu\"]\n",
    "#print(lst1)\n",
    "#print(\"-------------------------------------\")\n",
    "lst2 = [\"Naga\",\"Anki\",\"Akki\"]\n",
    "lst2.extend(lst1)\n",
    "print(lst2)\n",
    "print(\"-------------------------------------\")\n",
    "print(lst1)"
   ]
  },
  {
   "cell_type": "code",
   "execution_count": 43,
   "id": "41458a7c",
   "metadata": {
    "pycharm": {
     "name": "#%%\n"
    }
   },
   "outputs": [
    {
     "name": "stdout",
     "output_type": "stream",
     "text": [
      "['Nagarjun', 'Ankur', 'Yuvanshu', 'Akash', 'Prashant']\n"
     ]
    }
   ],
   "source": [
    "lst = [\"Nagarjun\",\"Ankur\",\"Yuvanshu\"]\n",
    "tup = (\"Akash\",\"Prashant\")\n",
    "lst.extend(tup)\n",
    "print(lst)"
   ]
  },
  {
   "cell_type": "code",
   "execution_count": 48,
   "id": "1f023734",
   "metadata": {
    "pycharm": {
     "name": "#%%\n"
    }
   },
   "outputs": [
    {
     "name": "stdout",
     "output_type": "stream",
     "text": [
      "['Nagarjun', 'Ankur', 'Yuvanshu', 'A', 'K', 'A', 'S', 'H']\n"
     ]
    }
   ],
   "source": [
    "lst = [\"Nagarjun\",\"Ankur\",\"Yuvanshu\"]\n",
    "str = \"Akash\"\n",
    "lst.extend(str.upper())\n",
    "print(lst)"
   ]
  },
  {
   "cell_type": "code",
   "execution_count": 47,
   "id": "3c2cf7b1",
   "metadata": {
    "pycharm": {
     "name": "#%%\n"
    }
   },
   "outputs": [
    {
     "name": "stdout",
     "output_type": "stream",
     "text": [
      "['Nagarjun', 'Ankur', 'Yuvanshu', 'Akash', 25]\n"
     ]
    }
   ],
   "source": [
    "lst = [\"Nagarjun\",\"Ankur\",\"Yuvanshu\"]\n",
    "dict = {\"Name\":\"Akash\",\"Age\":25}\n",
    "lst.extend(dict.values())\n",
    "print(lst)"
   ]
  },
  {
   "cell_type": "code",
   "execution_count": 49,
   "id": "67ad96ae",
   "metadata": {
    "pycharm": {
     "name": "#%%\n"
    }
   },
   "outputs": [
    {
     "name": "stdout",
     "output_type": "stream",
     "text": [
      "['Nagarjun', 'Ankur', 'Yuvanshu', 'Name', 'Age']\n"
     ]
    }
   ],
   "source": [
    "lst = [\"Nagarjun\",\"Ankur\",\"Yuvanshu\"]\n",
    "dict = {\"Name\":\"Akash\",\"Age\":25}\n",
    "lst.extend(dict)\n",
    "print(lst)"
   ]
  },
  {
   "cell_type": "code",
   "execution_count": 50,
   "id": "dba96e22",
   "metadata": {
    "pycharm": {
     "name": "#%%\n"
    }
   },
   "outputs": [
    {
     "name": "stdout",
     "output_type": "stream",
     "text": [
      "['Nagarjun', 'Ankur', 'Yuvanshu', 1, 2, 3, 4, 5, 6, 7, 8]\n"
     ]
    }
   ],
   "source": [
    "lst = [\"Nagarjun\",\"Ankur\",\"Yuvanshu\"]\n",
    "set = {1,2,2,1,3,4,5,5,6,7,8}\n",
    "lst.extend(set)\n",
    "print(lst)"
   ]
  },
  {
   "cell_type": "code",
   "execution_count": 51,
   "id": "e49347f4",
   "metadata": {
    "pycharm": {
     "name": "#%%\n"
    }
   },
   "outputs": [
    {
     "name": "stdout",
     "output_type": "stream",
     "text": [
      "['Nagarjun', 'Ankur']\n"
     ]
    }
   ],
   "source": [
    "lst = [\"Nagarjun\",\"Ankur\",\"Yuvanshu\"]\n",
    "lst.remove(\"Yuvanshu\")\n",
    "print(lst)"
   ]
  },
  {
   "cell_type": "code",
   "execution_count": 54,
   "id": "0e851ac7",
   "metadata": {
    "pycharm": {
     "name": "#%%\n"
    }
   },
   "outputs": [
    {
     "name": "stdout",
     "output_type": "stream",
     "text": [
      "['Nagarjun', 'Yuvanshu']\n"
     ]
    }
   ],
   "source": [
    "lst = [\"Nagarjun\",\"Ankur\",\"Yuvanshu\"]\n",
    "lst.remove(lst[1])\n",
    "print(lst)"
   ]
  },
  {
   "cell_type": "code",
   "execution_count": 56,
   "id": "5b28e2d3",
   "metadata": {
    "pycharm": {
     "name": "#%%\n"
    }
   },
   "outputs": [
    {
     "name": "stdout",
     "output_type": "stream",
     "text": [
      "['Nagarjun', 'Ankur']\n"
     ]
    }
   ],
   "source": [
    "lst = [\"Nagarjun\",\"Ankur\",\"Yuvanshu\"]\n",
    "lst.pop(2)\n",
    "print(lst)"
   ]
  },
  {
   "cell_type": "code",
   "execution_count": 59,
   "id": "088c6fd3",
   "metadata": {
    "pycharm": {
     "name": "#%%\n"
    }
   },
   "outputs": [
    {
     "name": "stdout",
     "output_type": "stream",
     "text": [
      "['Nagarjun', 'Ankur']\n"
     ]
    }
   ],
   "source": [
    "lst = [\"Nagarjun\",\"Ankur\",\"Yuvanshu\"]\n",
    "lst.pop()\n",
    "print(lst)"
   ]
  },
  {
   "cell_type": "code",
   "execution_count": 61,
   "id": "8f20c363",
   "metadata": {
    "pycharm": {
     "name": "#%%\n"
    }
   },
   "outputs": [
    {
     "name": "stdout",
     "output_type": "stream",
     "text": [
      "['Nagarjun', 'Yuvanshu']\n"
     ]
    }
   ],
   "source": [
    "lst = [\"Nagarjun\",\"Ankur\",\"Yuvanshu\"]\n",
    "del lst[1]\n",
    "print(lst)"
   ]
  },
  {
   "cell_type": "code",
   "execution_count": 63,
   "id": "c853bee1",
   "metadata": {
    "pycharm": {
     "name": "#%%\n"
    }
   },
   "outputs": [],
   "source": [
    "lst = [\"Nagarjun\",\"Ankur\",\"Yuvanshu\"]\n",
    "del lst"
   ]
  },
  {
   "cell_type": "code",
   "execution_count": 64,
   "id": "b8b78c5d",
   "metadata": {
    "pycharm": {
     "name": "#%%\n"
    }
   },
   "outputs": [
    {
     "ename": "NameError",
     "evalue": "name 'lst' is not defined",
     "output_type": "error",
     "traceback": [
      "\u001B[1;31m---------------------------------------------------------------------------\u001B[0m",
      "\u001B[1;31mNameError\u001B[0m                                 Traceback (most recent call last)",
      "Cell \u001B[1;32mIn[64], line 1\u001B[0m\n\u001B[1;32m----> 1\u001B[0m \u001B[38;5;28mprint\u001B[39m(\u001B[43mlst\u001B[49m)\n",
      "\u001B[1;31mNameError\u001B[0m: name 'lst' is not defined"
     ]
    }
   ],
   "source": [
    "print(lst)"
   ]
  },
  {
   "cell_type": "code",
   "execution_count": 65,
   "id": "2a9e0577",
   "metadata": {
    "pycharm": {
     "name": "#%%\n"
    }
   },
   "outputs": [
    {
     "name": "stdout",
     "output_type": "stream",
     "text": [
      "[]\n"
     ]
    }
   ],
   "source": [
    "list = [\"Apple\",\"Banana\",\"Cherry\"]\n",
    "list.clear()\n",
    "print(list)"
   ]
  },
  {
   "cell_type": "code",
   "execution_count": 66,
   "id": "2646683f",
   "metadata": {
    "pycharm": {
     "name": "#%%\n"
    }
   },
   "outputs": [
    {
     "name": "stdout",
     "output_type": "stream",
     "text": [
      "Apple\n",
      "Banana\n",
      "Cherry\n"
     ]
    }
   ],
   "source": [
    "lst = [\"Apple\",\"Banana\",\"Cherry\"]\n",
    "for ele in lst:\n",
    "    print(ele)"
   ]
  },
  {
   "cell_type": "code",
   "execution_count": 71,
   "id": "2bbd3e45",
   "metadata": {
    "pycharm": {
     "name": "#%%\n"
    }
   },
   "outputs": [
    {
     "name": "stdout",
     "output_type": "stream",
     "text": [
      "Apple\n",
      "Banana\n",
      "Cherry\n"
     ]
    }
   ],
   "source": [
    "for ele in [\"Apple\",\"Banana\",\"Cherry\"]:\n",
    "    print(ele)"
   ]
  },
  {
   "cell_type": "code",
   "execution_count": 72,
   "id": "13fc3038",
   "metadata": {
    "pycharm": {
     "name": "#%%\n"
    }
   },
   "outputs": [
    {
     "name": "stdout",
     "output_type": "stream",
     "text": [
      "0\n",
      "1\n",
      "2\n"
     ]
    }
   ],
   "source": [
    "lst = [\"Apple\",\"Banana\",\"Cherry\"]\n",
    "for i in range(len(lst)):\n",
    "    print(i)"
   ]
  },
  {
   "cell_type": "code",
   "execution_count": 73,
   "id": "2512f8c3",
   "metadata": {
    "pycharm": {
     "name": "#%%\n"
    }
   },
   "outputs": [
    {
     "name": "stdout",
     "output_type": "stream",
     "text": [
      "0 Apple\n",
      "1 Banana\n",
      "2 Cherry\n"
     ]
    }
   ],
   "source": [
    "lst = [\"Apple\",\"Banana\",\"Cherry\"]\n",
    "for i in range(len(lst)):\n",
    "    print(i,lst[i])"
   ]
  },
  {
   "cell_type": "code",
   "execution_count": 74,
   "id": "dddedcdd",
   "metadata": {
    "pycharm": {
     "name": "#%%\n"
    }
   },
   "outputs": [
    {
     "name": "stdout",
     "output_type": "stream",
     "text": [
      "Apple\n",
      "Banana\n",
      "Cherry\n"
     ]
    }
   ],
   "source": [
    "lst = [\"Apple\",\"Banana\",\"Cherry\"]\n",
    "x = len(lst)\n",
    "for i in range(x):\n",
    "    print(lst[i])"
   ]
  },
  {
   "cell_type": "code",
   "execution_count": 78,
   "id": "9eb4af94",
   "metadata": {
    "pycharm": {
     "name": "#%%\n"
    }
   },
   "outputs": [
    {
     "name": "stdout",
     "output_type": "stream",
     "text": [
      "0 Apple\n",
      "1 Banana\n",
      "2 Cherry\n"
     ]
    }
   ],
   "source": [
    "lst = [\"Apple\",\"Banana\",\"Cherry\"]\n",
    "x = len(lst)\n",
    "for i in range(x):\n",
    "    print(i,lst[i])"
   ]
  },
  {
   "cell_type": "code",
   "execution_count": 79,
   "id": "a4776d01",
   "metadata": {
    "pycharm": {
     "name": "#%%\n"
    }
   },
   "outputs": [
    {
     "name": "stdout",
     "output_type": "stream",
     "text": [
      "Apple\n",
      "Banana\n",
      "Cherry\n"
     ]
    }
   ],
   "source": [
    "lst = [\"Apple\",\"Banana\",\"Cherry\"]\n",
    "i= 0\n",
    "while i<len(lst):\n",
    "    print(lst[i])\n",
    "    i+=1"
   ]
  },
  {
   "cell_type": "code",
   "execution_count": 80,
   "id": "e9f76072",
   "metadata": {
    "pycharm": {
     "name": "#%%\n"
    }
   },
   "outputs": [
    {
     "name": "stdout",
     "output_type": "stream",
     "text": [
      "0 Apple\n",
      "1 Banana\n",
      "2 Cherry\n"
     ]
    }
   ],
   "source": [
    "lst = [\"Apple\",\"Banana\",\"Cherry\"]\n",
    "x = len(lst)\n",
    "i= 0\n",
    "while i<x:\n",
    "    print(i,lst[i])\n",
    "    i+=1"
   ]
  },
  {
   "cell_type": "code",
   "execution_count": 83,
   "id": "edea86ec",
   "metadata": {
    "pycharm": {
     "name": "#%%\n"
    }
   },
   "outputs": [
    {
     "name": "stdout",
     "output_type": "stream",
     "text": [
      "['apple', 'banana', 'kawa', 'mango']\n"
     ]
    }
   ],
   "source": [
    "fruits = [\"apple\",\"banana\",\"cherry\",\"kawa\",\"mango\"]\n",
    "newlist=[]\n",
    "for x in fruits:\n",
    "    if \"a\" in x:\n",
    "        newlist.append(x)\n",
    "        \n",
    "print(newlist)"
   ]
  },
  {
   "cell_type": "code",
   "execution_count": 2,
   "id": "001c29b1",
   "metadata": {
    "pycharm": {
     "name": "#%%\n"
    }
   },
   "outputs": [
    {
     "name": "stdout",
     "output_type": "stream",
     "text": [
      "['nagarjun', 'akash', 'prashant', 'Yuvanshu']\n"
     ]
    }
   ],
   "source": [
    "friends = [\"nagarjun\",\"akash\",\"prashant\",\"Yuvanshu\"]\n",
    "newlist= []\n",
    "for x in friends:\n",
    "    newlist.append(x)\n",
    "print(newlist)\n"
   ]
  },
  {
   "cell_type": "code",
   "execution_count": 3,
   "outputs": [
    {
     "name": "stdout",
     "output_type": "stream",
     "text": [
      "['apple', 'banana', 'kawa', 'mango']\n"
     ]
    }
   ],
   "source": [
    "fruits = [\"apple\",\"banana\",\"cherry\",\"kawa\",\"mango\"]\n",
    "newlist = [x for x in fruits if \"a\" in x]\n",
    "print(newlist)"
   ],
   "metadata": {
    "collapsed": false,
    "pycharm": {
     "name": "#%%\n"
    }
   }
  },
  {
   "cell_type": "code",
   "execution_count": 4,
   "outputs": [
    {
     "name": "stdout",
     "output_type": "stream",
     "text": [
      "['banana', 'cherry', 'kawa', 'mango']\n"
     ]
    }
   ],
   "source": [
    "fruits = [\"apple\",\"banana\",\"cherry\",\"kawa\",\"mango\"]\n",
    "newlist = [x for x in fruits if x!=\"apple\"]\n",
    "print(newlist)"
   ],
   "metadata": {
    "collapsed": false,
    "pycharm": {
     "name": "#%%\n"
    }
   }
  },
  {
   "cell_type": "code",
   "execution_count": 6,
   "outputs": [
    {
     "name": "stdout",
     "output_type": "stream",
     "text": [
      "['apple', 'banana', 'cherry', 'kawa', 'mango']\n"
     ]
    }
   ],
   "source": [
    "newlist = [x for x in fruits]\n",
    "print(newlist)"
   ],
   "metadata": {
    "collapsed": false,
    "pycharm": {
     "name": "#%%\n"
    }
   }
  },
  {
   "cell_type": "code",
   "execution_count": 8,
   "outputs": [],
   "source": [
    "#fruits = [\"apple\",\"banana\",\"cherry\",\"kawa\",\"mango\"]\n",
    "#newlist = []\n",
    "#for x in fruits:\n",
    "   # newlist.append(\"Hello\")"
   ],
   "metadata": {
    "collapsed": false,
    "pycharm": {
     "name": "#%%\n"
    }
   }
  },
  {
   "cell_type": "code",
   "execution_count": 9,
   "outputs": [
    {
     "name": "stdout",
     "output_type": "stream",
     "text": [
      "['Hello', 'Hello', 'Hello', 'Hello', 'Hello']\n"
     ]
    }
   ],
   "source": [
    "#print(newlist)"
   ],
   "metadata": {
    "collapsed": false,
    "pycharm": {
     "name": "#%%\n"
    }
   }
  },
  {
   "cell_type": "code",
   "execution_count": 12,
   "outputs": [
    {
     "name": "stdout",
     "output_type": "stream",
     "text": [
      "['Hello', 'Hello', 'Hello', 'Hello', 'Hello']\n"
     ]
    }
   ],
   "source": [
    "newlist = [\"Hello\" for x in fruits]\n",
    "print(newlist)"
   ],
   "metadata": {
    "collapsed": false,
    "pycharm": {
     "name": "#%%\n"
    }
   }
  },
  {
   "cell_type": "code",
   "execution_count": 14,
   "outputs": [
    {
     "name": "stdout",
     "output_type": "stream",
     "text": [
      "['APPLE', 'BANANA', 'CHERRY', 'KAWA', 'MANGO']\n"
     ]
    }
   ],
   "source": [
    "newlist = [x.upper() for x in fruits]\n",
    "print(newlist)"
   ],
   "metadata": {
    "collapsed": false,
    "pycharm": {
     "name": "#%%\n"
    }
   }
  },
  {
   "cell_type": "code",
   "execution_count": 16,
   "outputs": [
    {
     "name": "stdout",
     "output_type": "stream",
     "text": [
      "[0, 1, 2, 3, 4]\n"
     ]
    }
   ],
   "source": [
    "friends = [\"Naga\",\"Ankur\",\"Akash\",\"Yuva\",\"Prashant\"]\n",
    "st = [x for x in range(len(friends))]\n",
    "print(st)"
   ],
   "metadata": {
    "collapsed": false,
    "pycharm": {
     "name": "#%%\n"
    }
   }
  },
  {
   "cell_type": "code",
   "execution_count": 18,
   "outputs": [
    {
     "name": "stdout",
     "output_type": "stream",
     "text": [
      "['Naga', 'Ankur', 'Akash', 'Yuva', 'Prashant']\n"
     ]
    }
   ],
   "source": [
    "friends = [\"Naga\",\"Ankur\",\"Akash\",\"Yuva\",\"Prashant\"]\n",
    "st = [friends[x] for x in range(len(friends))]\n",
    "print(st)"
   ],
   "metadata": {
    "collapsed": false,
    "pycharm": {
     "name": "#%%\n"
    }
   }
  },
  {
   "cell_type": "code",
   "execution_count": null,
   "outputs": [],
   "source": [],
   "metadata": {
    "collapsed": false,
    "pycharm": {
     "name": "#%%\n"
    }
   }
  }
 ],
 "metadata": {
  "kernelspec": {
   "display_name": "Python 3 (ipykernel)",
   "language": "python",
   "name": "python3"
  },
  "language_info": {
   "codemirror_mode": {
    "name": "ipython",
    "version": 3
   },
   "file_extension": ".py",
   "mimetype": "text/x-python",
   "name": "python",
   "nbconvert_exporter": "python",
   "pygments_lexer": "ipython3",
   "version": "3.10.9"
  }
 },
 "nbformat": 4,
 "nbformat_minor": 5
}