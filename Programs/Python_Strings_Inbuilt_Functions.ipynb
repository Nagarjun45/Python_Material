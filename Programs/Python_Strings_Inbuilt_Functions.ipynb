{
 "cells": [
  {
   "cell_type": "markdown",
   "source": [
    "### 1. abs() in Python\n",
    "\n",
    "\n",
    "Syntax: abs(number)\n",
    "\n",
    "number: Integer, floating-point number, complex number.\n",
    "Return: Returns the absolute value."
   ],
   "metadata": {
    "collapsed": false,
    "pycharm": {
     "name": "#%% md\n"
    }
   }
  },
  {
   "cell_type": "code",
   "execution_count": 9,
   "outputs": [
    {
     "name": "stdout",
     "output_type": "stream",
     "text": [
      "The absolute value of number is 5.0\n"
     ]
    }
   ],
   "source": [
    "#An Integer,Float,Complex\n",
    "z = eval(input(\"Enter the number :\"))\n",
    "x = abs(z)\n",
    "print(\"The absolute value of number is {}\".format(x))"
   ],
   "metadata": {
    "collapsed": false,
    "pycharm": {
     "name": "#%%\n"
    }
   }
  },
  {
   "cell_type": "markdown",
   "source": [
    " ### 2. Python – all() function\n",
    "\n",
    "The Python all() function returns true if all the elements of a given iterable (List, Dictionary, Tuple, set, etc.) are True otherwise it returns False. It also returns True if the iterable object is empty. Sometimes while working on some code if we want to ensure that user has not entered a False value then we use the all() function.\n",
    "\n",
    "\n",
    "Syntax: all( iterable )\n",
    "\n",
    "Iterable: It is an iterable object such as a dictionary,tuple,list,set,etc.\n",
    "Returns: boolean"
   ],
   "metadata": {
    "collapsed": false,
    "pycharm": {
     "name": "#%% md\n"
    }
   }
  },
  {
   "cell_type": "code",
   "execution_count": 11,
   "outputs": [
    {
     "name": "stdout",
     "output_type": "stream",
     "text": [
      "False\n"
     ]
    }
   ],
   "source": [
    "a = [True,True,False,True]\n",
    "z = all(a)\n",
    "print(z)"
   ],
   "metadata": {
    "collapsed": false,
    "pycharm": {
     "name": "#%%\n"
    }
   }
  },
  {
   "cell_type": "code",
   "execution_count": 12,
   "outputs": [
    {
     "name": "stdout",
     "output_type": "stream",
     "text": [
      "True\n"
     ]
    }
   ],
   "source": [
    "a = [True,True,True,True]\n",
    "z = all(a)\n",
    "print(z)"
   ],
   "metadata": {
    "collapsed": false,
    "pycharm": {
     "name": "#%%\n"
    }
   }
  },
  {
   "cell_type": "code",
   "execution_count": 13,
   "outputs": [
    {
     "name": "stdout",
     "output_type": "stream",
     "text": [
      "True\n",
      "False\n",
      "False\n",
      "True\n",
      "False\n"
     ]
    }
   ],
   "source": [
    "#Example 1: Working of all() with Lists\n",
    "\n",
    "# All elements of list are true\n",
    "l = [4, 5, 1]\n",
    "print(all(l))\n",
    "\n",
    "# All elements of list are false\n",
    "l = [0, 0, False]\n",
    "print(all(l))\n",
    "\n",
    "# Some elements of list are\n",
    "# true while others are false\n",
    "l = [1, 0, 6, 7, False]\n",
    "print(all(l))\n",
    "\n",
    "# Empty List\n",
    "l = []\n",
    "print(all(l))\n",
    "\n",
    "# all() with condition - to check if all elements are greater than 0\n",
    "l = [1,-3,0,2,4]\n",
    "print(all(ele > 0 for ele in l))"
   ],
   "metadata": {
    "collapsed": false,
    "pycharm": {
     "name": "#%%\n"
    }
   }
  },
  {
   "cell_type": "code",
   "execution_count": 14,
   "outputs": [
    {
     "name": "stdout",
     "output_type": "stream",
     "text": [
      "True\n",
      "False\n",
      "False\n",
      "True\n",
      "True\n"
     ]
    }
   ],
   "source": [
    "#Example 2: Working of all() with Tuples\n",
    "\n",
    "# All elements of tuple are true\n",
    "t = (2, 4, 6)\n",
    "print(all(t))\n",
    "\n",
    "# All elements of tuple are false\n",
    "t = (0, False, False)\n",
    "print(all(t))\n",
    "\n",
    "# Some elements of tuple are true while others are false\n",
    "t = (5, 0, 3, 1, False)\n",
    "print(all(t))\n",
    "\n",
    "# Empty tuple\n",
    "t = ()\n",
    "print(all(t))\n",
    "\n",
    "# all() with condition - to check if all elements are even\n",
    "l = (2,4,6,8,10)\n",
    "print(all(ele % 2 == 0 for ele in l))"
   ],
   "metadata": {
    "collapsed": false,
    "pycharm": {
     "name": "#%%\n"
    }
   }
  },
  {
   "cell_type": "code",
   "execution_count": 15,
   "outputs": [
    {
     "name": "stdout",
     "output_type": "stream",
     "text": [
      "True\n",
      "False\n",
      "False\n",
      "True\n",
      "True\n"
     ]
    }
   ],
   "source": [
    "#Example 3: Working of all() with Sets\n",
    "\n",
    "# All elements of set are true\n",
    "s = {1, 1, 3}\n",
    "print(all(s))\n",
    "\n",
    "# All elements of set are false\n",
    "s = {0, 0, False}\n",
    "print(all(s))\n",
    "\n",
    "# Some elements of set are true while others are false\n",
    "s = {1, 2, 0, 8, False}\n",
    "print(all(s))\n",
    "\n",
    "# Empty set\n",
    "s = {}\n",
    "print(all(s))\n",
    "\n",
    "# all() with condition - to check if absolute of all elements is greater than 2\n",
    "l = {-4,-3,6,-5,4}\n",
    "print(all(abs(ele) > 2 for ele in l))"
   ],
   "metadata": {
    "collapsed": false,
    "pycharm": {
     "name": "#%%\n"
    }
   }
  },
  {
   "cell_type": "code",
   "execution_count": 18,
   "outputs": [
    {
     "name": "stdout",
     "output_type": "stream",
     "text": [
      "True\n",
      "False\n",
      "False\n",
      "True\n",
      "False\n"
     ]
    }
   ],
   "source": [
    "#Example 4: Working of all() with Dictionaries\n",
    "\n",
    "\n",
    "#Note: In the case of a dictionary if all the keys of the dictionary are true or the dictionary is empty the all() returns True, else it returns False.\n",
    "\n",
    "# All elements of dictionary are true\n",
    "d = {1: \"Hello\", 2: \"Hi\"}\n",
    "print(all(d))\n",
    "\n",
    "# All elements of dictionary are false\n",
    "d = {0: \"Hello\", False: \"Hi\"}\n",
    "print(all(d))\n",
    "\n",
    "# Some elements of dictionary are true while others are false\n",
    "d = {0: \"Salut\", 1: \"Hello\", 2: \"Hi\"}\n",
    "print(all(d))\n",
    "\n",
    "# Empty dictionary\n",
    "d = {}\n",
    "print(all(d))\n",
    "\n",
    "# all() with condition - to check if all letters of word 'time' are there\n",
    "l = {\"t\":1, \"i\":1, \"m\":2, \"e\":0}\n",
    "print(all(ele > 0 for ele in l.values()))"
   ],
   "metadata": {
    "collapsed": false,
    "pycharm": {
     "name": "#%%\n"
    }
   }
  },
  {
   "cell_type": "code",
   "execution_count": 17,
   "outputs": [
    {
     "name": "stdout",
     "output_type": "stream",
     "text": [
      "True\n",
      "True\n",
      "True\n"
     ]
    }
   ],
   "source": [
    "#Example 5: Working of all() with Strings\n",
    "\n",
    "# Non-Empty String\n",
    "s = \"Hi There!\"\n",
    "print(all(s))\n",
    "\n",
    "# Non-Empty String\n",
    "s = \"000\"\n",
    "print(all(s))\n",
    "\n",
    "# Empty string\n",
    "s = \"\"\n",
    "print(all(s))"
   ],
   "metadata": {
    "collapsed": false,
    "pycharm": {
     "name": "#%%\n"
    }
   }
  },
  {
   "cell_type": "code",
   "execution_count": null,
   "outputs": [],
   "source": [
    "#In Case all elements are true or there is empty list,tuple,dictionary,set it returns True."
   ],
   "metadata": {
    "collapsed": false,
    "pycharm": {
     "name": "#%%\n"
    }
   }
  },
  {
   "cell_type": "markdown",
   "source": [
    "### 3. Python any() function\n",
    "\n",
    "Python any() function returns True if any of the elements of a given iterable( List, Dictionary, Tuple, set, etc) are True else it returns False.\n",
    "\n",
    "\n",
    "Syntax: any(iterable)\n",
    "\n",
    "Iterable: It is an iterable object such as a dictionary, tuple, list, set, etc.\n",
    "Returns: Returns True if any of the items is True."
   ],
   "metadata": {
    "collapsed": false,
    "pycharm": {
     "name": "#%% md\n"
    }
   }
  },
  {
   "cell_type": "code",
   "execution_count": 19,
   "outputs": [
    {
     "name": "stdout",
     "output_type": "stream",
     "text": [
      "True\n"
     ]
    }
   ],
   "source": [
    "# a List of boolean values\n",
    "l = [False, False, True, False, False]\n",
    "print(any(l))"
   ],
   "metadata": {
    "collapsed": false,
    "pycharm": {
     "name": "#%%\n"
    }
   }
  },
  {
   "cell_type": "code",
   "execution_count": 20,
   "outputs": [],
   "source": [
    "#In Case Of All Elements Are False or There is Empty List,tuple,dictionary,set it returns False."
   ],
   "metadata": {
    "collapsed": false,
    "pycharm": {
     "name": "#%%\n"
    }
   }
  },
  {
   "cell_type": "markdown",
   "source": [
    "### 4. Python delattr() Function\n",
    "\n",
    "Python delattr() Function is used to delete attributes from a class. It takes two arguments, the first one is the class object from which we want to delete, second is the name of the attribute which we want to delete.\n",
    "\n",
    "Syntax:- delattr (object, name)\n",
    "\n",
    "\n",
    "1.object\n",
    "\n",
    "An object from which we want to delete the attribute\n",
    "\n",
    "2.name\n",
    "\n",
    "The name of the attribute we want to delete"
   ],
   "metadata": {
    "collapsed": false,
    "pycharm": {
     "name": "#%% md\n"
    }
   }
  },
  {
   "cell_type": "code",
   "execution_count": 3,
   "outputs": [
    {
     "name": "stdout",
     "output_type": "stream",
     "text": [
      "5\n",
      "type object 'course' has no attribute 'rating'\n"
     ]
    }
   ],
   "source": [
    "#The delattr() method returns a complex number.\n",
    "\n",
    "#Example 1:\n",
    "\n",
    "#A class course is created with attributes name, duration, price, rating. An instance of the class is created and now we delete the rating attribute using delattr() method. Finally, we check if the rating attribute is present or not. A try block is used to handle the keyError\n",
    "\n",
    "\n",
    "\n",
    "class course:\n",
    "\tname = \"data structures using c++\"\n",
    "\tduration_months = 6\n",
    "\tprice = 20000\n",
    "\trating = 5\n",
    "\n",
    "# creating an object of course\n",
    "print(course.rating)\n",
    "\n",
    "# deleting the rating attribute from object\n",
    "delattr(course, 'rating')\n",
    "\n",
    "# checking if the rating attribute is there or not\n",
    "try:\n",
    "\tprint(course.rating)\n",
    "except Exception as e:\n",
    "\tprint(e)"
   ],
   "metadata": {
    "collapsed": false,
    "pycharm": {
     "name": "#%%\n"
    }
   }
  },
  {
   "cell_type": "markdown",
   "source": [
    "### 5. Python dict() Function\n",
    "\n",
    "Python dict() Function is used to create a Python dictionary, a collection of key-value pairs.\n"
   ],
   "metadata": {
    "collapsed": false,
    "pycharm": {
     "name": "#%% md\n"
    }
   }
  },
  {
   "cell_type": "code",
   "execution_count": 4,
   "outputs": [
    {
     "data": {
      "text/plain": "{'One': '1', 'Two': '2'}"
     },
     "execution_count": 4,
     "metadata": {},
     "output_type": "execute_result"
    }
   ],
   "source": [
    "dict(One = \"1\", Two = \"2\")\n",
    "\n",
    "\n",
    "#A dictionary is a mutable data structure i.e. the data in the dictionary can be modified. Dictionary is an indexed data structure i.e. the contents of a dictionary can be accessed by using indexes, here in the dictionary the key is used as an index."
   ],
   "metadata": {
    "collapsed": false,
    "pycharm": {
     "name": "#%%\n"
    }
   }
  },
  {
   "cell_type": "code",
   "execution_count": 5,
   "outputs": [
    {
     "name": "stdout",
     "output_type": "stream",
     "text": [
      "{'a': 1, 'b': 2, 'c': 3, 'd': 4}\n"
     ]
    }
   ],
   "source": [
    "#Example 1: Creating dictionary using keyword arguments\n",
    "\n",
    "#We can pass keyword arguments as a parameter with the required values that will be keys and values of the dictionary.\n",
    "\n",
    "#Syntax:- dict(**kwarg)\n",
    "\n",
    "# passing keyword arguments to dict() method\n",
    "\n",
    "\n",
    "myDict = dict(a=1, b=2, c=3, d=4)\n",
    "\n",
    "print(myDict)"
   ],
   "metadata": {
    "collapsed": false,
    "pycharm": {
     "name": "#%%\n"
    }
   }
  },
  {
   "cell_type": "code",
   "execution_count": 6,
   "outputs": [
    {
     "name": "stdout",
     "output_type": "stream",
     "text": [
      "After change in shallow copy, main_dict: {'a': 10, 'b': 2, 'c': 3}\n",
      "After change in deep copy, main_dict: {'a': 10, 'b': 2, 'c': 3}\n"
     ]
    }
   ],
   "source": [
    "#Example 2: Creating deep-copy of the dictionary using dict()\n",
    "\n",
    "main_dict = {'a': 1, 'b': 2, 'c': 3}\n",
    "\n",
    "# deep copy using dict\n",
    "dict_deep = dict(main_dict)\n",
    "\n",
    "# shallow copy without dict\n",
    "dict_shallow = main_dict\n",
    "\n",
    "# changing value in shallow copy will change main_dict\n",
    "dict_shallow['a'] = 10\n",
    "print(\"After change in shallow copy, main_dict:\", main_dict)\n",
    "\n",
    "# changing value in deep copy won't affect main_dict\n",
    "dict_deep['b'] = 20\n",
    "print(\"After change in deep copy, main_dict:\", main_dict)"
   ],
   "metadata": {
    "collapsed": false,
    "pycharm": {
     "name": "#%%\n"
    }
   }
  },
  {
   "cell_type": "code",
   "execution_count": 7,
   "outputs": [
    {
     "name": "stdout",
     "output_type": "stream",
     "text": [
      "{'a': 1, 'b': 2, 'c': 3, 'd': 4}\n"
     ]
    }
   ],
   "source": [
    "#Example 3: Creating dictionary using iterables\n",
    "\n",
    "#The keys and values can be passed to dict() in form of  iterables like lists or tuples to form a dictionary and keyword arguments can also be passed to dict().\n",
    "\n",
    "\n",
    "#1Syntax: dict(iterable, **kwarg)\n",
    "\n",
    "\n",
    "# A list of key value pairs is passed and a keyword argument is also passed\n",
    "\n",
    "myDict = dict([('a', 1), ('b', 2), ('c', 3)], d=4)\n",
    "\n",
    "print(myDict)"
   ],
   "metadata": {
    "collapsed": false,
    "pycharm": {
     "name": "#%%\n"
    }
   }
  },
  {
   "cell_type": "markdown",
   "source": [
    "### 6. Enumerate() in Python\n",
    "\n",
    "Often, when dealing with iterators, we also get need to keep a count of iterations. Python eases the programmers’ task by providing a built-in function enumerate() for this task. Enumerate() method adds a counter to an iterable and returns it in a form of enumerating object. This enumerated object can then be used directly for loops or converted into a list of tuples using the list() function.\n",
    "\n",
    "\n",
    "Syntax: enumerate(iterable, start=0)\n",
    "\n",
    "Iterable: any object that supports iteration\n",
    "Start: the index value from which the counter is to be started, by default it is 0"
   ],
   "metadata": {
    "collapsed": false,
    "pycharm": {
     "name": "#%% md\n"
    }
   }
  },
  {
   "cell_type": "code",
   "execution_count": 8,
   "outputs": [
    {
     "name": "stdout",
     "output_type": "stream",
     "text": [
      "Return type: <class 'enumerate'>\n",
      "[(0, 'eat'), (1, 'sleep'), (2, 'repeat')]\n",
      "[(2, 'g'), (3, 'e'), (4, 'e'), (5, 'k')]\n"
     ]
    }
   ],
   "source": [
    "# Python program to illustrate\n",
    "# enumerate function\n",
    "l1 = [\"eat\", \"sleep\", \"repeat\"]\n",
    "s1 = \"geek\"\n",
    "\n",
    "# creating enumerate objects\n",
    "obj1 = enumerate(l1)\n",
    "obj2 = enumerate(s1)\n",
    "\n",
    "print (\"Return type:\", type(obj1))\n",
    "print (list(enumerate(l1)))\n",
    "\n",
    "# changing start index to 2 from 0\n",
    "print (list(enumerate(s1, 2)))"
   ],
   "metadata": {
    "collapsed": false,
    "pycharm": {
     "name": "#%%\n"
    }
   }
  },
  {
   "cell_type": "code",
   "execution_count": null,
   "outputs": [],
   "source": [],
   "metadata": {
    "collapsed": false,
    "pycharm": {
     "name": "#%%\n"
    }
   }
  }
 ],
 "metadata": {
  "kernelspec": {
   "display_name": "Python 3",
   "language": "python",
   "name": "python3"
  },
  "language_info": {
   "codemirror_mode": {
    "name": "ipython",
    "version": 2
   },
   "file_extension": ".py",
   "mimetype": "text/x-python",
   "name": "python",
   "nbconvert_exporter": "python",
   "pygments_lexer": "ipython2",
   "version": "2.7.6"
  }
 },
 "nbformat": 4,
 "nbformat_minor": 0
}